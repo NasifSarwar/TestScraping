{
 "cells": [
  {
   "cell_type": "code",
   "execution_count": 30,
   "metadata": {},
   "outputs": [],
   "source": [
    "from selenium import webdriver\n",
    "from selenium.webdriver.chrome.service import Service\n",
    "from selenium.webdriver.common.by import By\n",
    "from selenium.webdriver.common.keys import Keys\n",
    "from itertools import chain\n",
    "import pandas as pd\n",
    "import time\n"
   ]
  },
  {
   "cell_type": "code",
   "execution_count": 31,
   "metadata": {},
   "outputs": [],
   "source": [
    "head_lines = []\n",
    "times =  []\n",
    "whole_contents = []\n",
    "PATH = \"N:\\\\Code\\\\News Scraping\\\\chromedriver.exe\"\n",
    "service = Service(executable_path = PATH)\n",
    "driver = webdriver.Chrome(service = service)\n",
    "driver.get(\"https://www.telegraph.co.uk/search/\")\n",
    "input_element = driver.find_element(By.ID, \"fsearch\" )\n",
    "input_element.send_keys(\"Bangladesh\")\n",
    "time.sleep(10)\n",
    "news_lists = driver.find_elements(By.XPATH, \"//li[@class='cst-card']\")\n",
    "\n"
   ]
  },
  {
   "cell_type": "code",
   "execution_count": 32,
   "metadata": {},
   "outputs": [],
   "source": [
    "head_lines = driver.find_elements(By.XPATH,'//p[@class=\"cst-card__headline \"]')\n",
    "head_lines = [head_line.text for head_line in head_lines]\n",
    "times =driver.find_elements(By.XPATH,'//span[@class=\"cst-card__date\"]') \n",
    "times = [time.text for time in times]\n",
    "# head_lines[11].text"
   ]
  },
  {
   "cell_type": "code",
   "execution_count": 33,
   "metadata": {},
   "outputs": [
    {
     "data": {
      "text/plain": [
       "['https://www.telegraph.co.uk/cricket/2023/11/21/icc-climate-change-cricket-world-cup-air-pollution-dehli/',\n",
       " 'https://www.telegraph.co.uk/world-news/2023/11/06/india-beehives-bangladesh-border-stop-smuggling/',\n",
       " 'https://www.telegraph.co.uk/cricket/2023/11/06/angelo-mathews-timed-out-sri-lanka-bangladesh-world-cup/',\n",
       " 'https://www.telegraph.co.uk/cricket/2023/11/06/shakib-al-hasan-angelo-matthews-spirit-of-cricket-world-cup/',\n",
       " 'https://www.telegraph.co.uk/cricket/2023/10/19/india-vs-bangladesh-cricket-world-cup-live-score-updates/',\n",
       " 'https://www.telegraph.co.uk/cricket/2023/10/11/reece-topley-england-seam-attack-cricket-world-cup-rotation/',\n",
       " 'https://www.telegraph.co.uk/cricket/2023/10/10/england-vs-bangladesh-cricket-world-cup-live-score-updates/',\n",
       " 'https://www.telegraph.co.uk/cricket/2023/10/08/outfield-world-cup-england-players-injury-warning/',\n",
       " 'https://www.telegraph.co.uk/cricket/2023/10/02/mark-wood-bangladesh-england-world-cup/',\n",
       " 'https://www.telegraph.co.uk/global-health/science-and-disease/bangladesh-hospitals-at-breaking-point-in-dengue-crisis/',\n",
       " 'https://www.telegraph.co.uk/global-health/climate-and-people/bangladesh-climate-change-early-warning-system-weather/',\n",
       " 'https://www.telegraph.co.uk/cricket/2023/03/14/bangladesh-vs-england-live-score-latest-third-t20/']"
      ]
     },
     "execution_count": 33,
     "metadata": {},
     "output_type": "execute_result"
    }
   ],
   "source": [
    "news_links_curr_page = driver.find_elements(By.XPATH, \"//a[@class='cst-card__link']\")\n",
    "news_links_curr_page = [news_link.get_attribute('href') for news_link in news_links_curr_page]\n",
    "news_links_curr_page"
   ]
  },
  {
   "cell_type": "code",
   "execution_count": null,
   "metadata": {},
   "outputs": [],
   "source": [
    "# for news_link in news_links_curr_page:\n",
    "#     print(news_link.get_attribute('href'))"
   ]
  },
  {
   "cell_type": "code",
   "execution_count": 34,
   "metadata": {},
   "outputs": [
    {
     "data": {
      "text/plain": [
       "12"
      ]
     },
     "execution_count": 34,
     "metadata": {},
     "output_type": "execute_result"
    }
   ],
   "source": [
    "len(news_links_curr_page)"
   ]
  },
  {
   "cell_type": "code",
   "execution_count": 35,
   "metadata": {},
   "outputs": [],
   "source": [
    "for i in range(len(news_links_curr_page)):\n",
    "    # news_lists = driver.find_elements(By.XPATH, \"//li[@class='cst-card']\")\n",
    "    # news_lists[i].click()\n",
    "    news_links_curr_page = driver.find_elements(By.XPATH, \"//a[@class='cst-card__link']\")\n",
    "    news_links_curr_page = [news_link.get_attribute('href') for news_link in news_links_curr_page]\n",
    "    driver.get(news_links_curr_page[i])\n",
    "    time.sleep(10)\n",
    "    divs_contain_pTag = driver.find_elements(By.XPATH, '//div[@class=\"component article-body-text    \"]')\n",
    "    p_tags_list = list(chain.from_iterable([div.find_elements(By.TAG_NAME, 'p') for div in divs_contain_pTag]))\n",
    "    news_content_list = [pTag.text for pTag in p_tags_list]\n",
    "    whole_contents.append (' '.join(news_content_list))\n",
    "    driver.back()\n",
    "    time.sleep(10)\n",
    "    "
   ]
  },
  {
   "cell_type": "code",
   "execution_count": 23,
   "metadata": {},
   "outputs": [],
   "source": [
    "driver.quit()"
   ]
  },
  {
   "cell_type": "code",
   "execution_count": 20,
   "metadata": {},
   "outputs": [
    {
     "data": {
      "text/plain": [
       "[\"ICC criticised for lack of action over 'existential threat' of climate change to cricket\",\n",
       " 'India deploys anti-smuggling beehives on Bangladesh border',\n",
       " \"'Disgraceful': Sri Lanka outraged as Angelo Mathews timed out against Bangladesh\",\n",
       " 'Shakib Al Hasan appealing was not against the ‘spirit of cricket’ – but law must be changed',\n",
       " 'Sparkling Virat Kohli hundred sees India past Bangladesh in raucous Pune',\n",
       " 'Reece Topley makes convincing case to lead England’s seam attack',\n",
       " 'Dawid Malan and Reece Topley star as England get back on track with Bangladesh hammering',\n",
       " 'Jos Buttler criticises ‘poor pitch’ as England players warned not to dive against Bangladesh',\n",
       " 'Mark Wood makes timely return to give England World Cup boost',\n",
       " 'Bangladesh hospitals at breaking point as dengue crisis intensifies',\n",
       " 'As extreme heat and wildfires hit Europe, experts look to Bangladesh for climate change advice',\n",
       " 'Bangladesh sweep butter-fingered England aside']"
      ]
     },
     "execution_count": 20,
     "metadata": {},
     "output_type": "execute_result"
    }
   ],
   "source": [
    "head_lines"
   ]
  },
  {
   "cell_type": "code",
   "execution_count": 21,
   "metadata": {},
   "outputs": [
    {
     "data": {
      "text/plain": [
       "['21 Nov 2023 • 5:11 pm',\n",
       " '7 Nov 2023 • 12:11 am',\n",
       " '6 Nov 2023 • 9:11 pm',\n",
       " '6 Nov 2023 • 8:11 pm',\n",
       " '19 Oct 2023 • 10:10 pm',\n",
       " '11 Oct 2023 • 11:10 pm',\n",
       " '10 Oct 2023 • 7:10 pm',\n",
       " '10 Oct 2023 • 12:10 am',\n",
       " '3 Oct 2023 • 1:10 am',\n",
       " '6 Sep 2023 • 8:09 pm',\n",
       " '18 Jul 2023 • 6:07 pm',\n",
       " '14 Mar 2023 • 10:03 pm']"
      ]
     },
     "execution_count": 21,
     "metadata": {},
     "output_type": "execute_result"
    }
   ],
   "source": [
    "times"
   ]
  },
  {
   "cell_type": "code",
   "execution_count": 22,
   "metadata": {},
   "outputs": [
    {
     "data": {
      "text/plain": [
       "'The International Cricket Council has been urged to face up to the “existential threat” of its environmental impact and sign up to the United Nations’s Climate Action framework. The 13th edition of the Men’s ODI World Cup, which finished on Sunday, highlighted how climate change threatens the future of the game. In Delhi, extreme levels of air pollution led to Bangladesh cancelling a training session before their match with Sri Lanka, with fears that the match might have had to be cancelled. England’s Joe Root described fielding in Mumbai, another city to suffer from severe air pollution, as like “eating air,” saying that “it just felt like you couldn’t get your breath”. In both Delhi and Mumbai, fireworks at the final group games were cancelled because of fears this would add further to air pollution. Both India and England had to take internal flights between all of their nine group matches. The player of the match award for each game was sponsored by Aramco, the Saudi Arabian state-owned oil company. “We as a cricketing fraternity must place greater emphasis on climate change,” said Daren Ganga, the former West Indies Test captain, urging the ICC to sign the United Nations Climate Change Sports for Climate Action Framework. “Administrators must consider the protection of players in extreme conditions. Facilities must be adapted to suit our changing climate and collectively cricket needs to set itself a zero carbon goal. This is a real situation unfolding and I don’t think it’s sufficiently prioritised globally and from the ICC.” Fifa, the International Basketball Federation, World Athletics and World Rugby are among the global sporting bodies to have already signed the Sports for Climate Action Framework. “This ensures a bold commitment is made and actions will follow,” Ganga said. “Sport is a victim of climate change, but it’s also a contributor of climate change. And this has to bring about action.” Ganga called upon the ICC to transform how they think about their environmental footprint at all levels, highlighting the production of kit and recycling measures at grounds. “There needs to be positive management of supply chains and manufacturing of items related to cricket. Insist that manufacturing standards incorporate more sustainable materials and promote shorter environmentally friendly supply chains. Upscale recycling. Collective action is required, time is running out since sport and cricket face an existential threat.” “Cricket is among the most climate change-impacted sports,” said Madeleine Orr, assistant professor of Sport Ecology at the University of Toronto and the founder of the Sport Ecology Group. “At this most recent World Cup, air pollution was a top concern and so was extreme heat. The future of cricket will depend on significant action by every level of management to adapt to these conditions. We will need to see heat policies and air pollution policies, strong medical teams and emergency protocols, and these measures will need to be taken at every level of the sport, right down to the little kids’ teams.” Despite some worthwhile local initiatives, Orr said that there had been “nothing systemic across the sport” on climate change, calling upon the ICC to play a leadership role. She also highlighted the willingness of the ICC, like many other sports governing bodies, to enter agreements with Aramco. “Fossil fuel sponsors, despite being a stain on the credibility of sport organisations - especially in relation to their sustainability efforts - remain ubiquitous in sport. So, it’s hard to pick on the ICC-Aramco partnership when there are so many others just like it. But in a world on fire, I would hope the ICC moves away from this funder as soon as possible.” Areeba Hamid, the joint executive director at Greenpeace UK, also called on the ICC to become more environmentally aware. “The impacts of climate change are felt by all, and countries vulnerable to climate change like India face particular challenges. Rather than cosying up with big oil, the ICC should be going out to bat for a sustainable future for the sport and the planet.” Aramco have been contacted for comment.'"
      ]
     },
     "execution_count": 22,
     "metadata": {},
     "output_type": "execute_result"
    }
   ],
   "source": [
    "whole_contents[0]"
   ]
  },
  {
   "cell_type": "code",
   "execution_count": 23,
   "metadata": {},
   "outputs": [
    {
     "data": {
      "text/plain": [
       "'India has installed beehives along its border with Bangladesh in an attempt to deter smuggling and other criminal activity across the frontier. The Border Security Force (BSF) said that the scheme would help prevent instances of migrants cutting through hedges and other natural border divisions, with such disturbances likely to trigger the bees to attack. India and Bangladesh share a border that is more than 2,500 miles long, where authorities battle a range of illicit activity, including the smuggling of people, drugs and animals. The beehives have been installed in the Nadia district of West Bengal, a state that accounts for more than half of the entire length of India’s border with Bangladesh. Cattle, gold, silver and drugs are frequently moved illegally across the state’s eastern frontier. “The bees could prevent to a large extent illegal infiltration of people, including criminals, from entering into India. It’s beneficial for both countries,” a senior official for the BSF said. India was the first country to formally recognise Bangladesh as a state, establishing diplomatic relations immediately after its neighbour declared independence in December 1971, breaking away from Pakistan. But the two countries have a number of ongoing disputes, including about water, illegal migration and the cross-border trade in drugs. The BSF said that the Ministry of Ayush, which promotes traditional medicine, had provided the beehives that will be used along the border. The ministry was formed in November 2014, soon after the Bharatiya Janata Party won power in India, with a “vision of reviving the profound knowledge” of the country’s “ancient systems of medicine and ensuring the optimal development and propagation of the Ayush systems of healthcare”. Medicinal plants have also been planted around the beehives to encourage bee pollination and improve the quality of fruit produced in the region, the BSF said. Honey produced from the beehives will be sold via BSF-established shops, with the profits reinvested in the local area, according to the agency.'"
      ]
     },
     "execution_count": 23,
     "metadata": {},
     "output_type": "execute_result"
    }
   ],
   "source": [
    "whole_contents[1]"
   ]
  },
  {
   "cell_type": "code",
   "execution_count": 24,
   "metadata": {},
   "outputs": [
    {
     "data": {
      "text/plain": [
       "'Sri Lanka’s Angelo Mathews became the first batsman in the 146-year history of international cricket to be dismissed timed out, then blasted Bangladesh and their “disgraceful” captain Shakib Al Hasan for “bringing the game into disrepute” with the wicket. In a spicy World Cup clash that Bangladesh eventually won by three wickets (with Shakib named man of the match for making 82 and taking two for 57)  Mathews was given out timed out because he was not ready to face his first ball in good time. This led to a bitter row that ended with the teams not shaking hands at the conclusion of the game, Mathews tapping his wrist – in a nod to the time – when he dismissed Shakib, and a war of words after the game. Veteran Mathews came to the crease with Sri Lanka struggling on 135 for four, before realising that the strap on his helmet was defective, and calling for a replacement, which was delivered by a sub. Bangladesh appealed for Mathews’ wicket, on the basis that he was not ready to face his first ball despite two minutes elapsing since the fall of the previous wicket. After a consultation between the experienced umpires Richard Illingworth and Marais Erasmus, Mathews was given out. He left the field in fury, throwing down both bat and helmet. The laws of cricket state that the incoming batsman must be ready to receive a ball within three minutes of the previous wicket falling, but at an ICC event that drops to two due to the playing conditions. Mathews was still furious at the conclusion of the game. “I hadn’t done anything wrong. I have two minutes to get to the crease and get myself ready, which I did, and then it was an equipment malfunction,” said Mathews who later posted time-stamped stills from the TV coverage purporting to show he had not gone beyond two minutes before his strap snapped. “I don’t know where the common sense went. It’s disgraceful from Shakib and Bangladesh. If they want to play cricket like that and stoop down to that level there is something drastically wrong. “It was pure common sense. I am not talking about Mankading, or obstructing the field. It was just pure common sense, bringing the game into disrepute. Absolutely disgraceful.” Asked why there were no handshakes at the end of the game, Mathews said: “We will respect people who respect us. We are all ambassadors of this beautiful game, including the umpires. If you don’t respect or use common sense, what more can you ask for? “Up to today I had utmost respect for him [Shakib] and the Bangladesh team. We all play to win, and if it’s within the rules it’s fine. I was there within two minutes, we have video evidence.” Shakib, no stranger to on-field controversy after a series of run-ins with umpires over his long career, defended his actions. “One of our fielders came to me and said, ‘If you appeal now, he will be out’,” he said. “I appealed, the umpires asked me if I was serious and if I would take it back or not. I said: ‘No, if it’s out.’ “It’s in the laws. I don’t know if it’s right or wrong. I feel like I was at a war and had to take a decision to make sure my team wins. Whatever I had to do I had to do. Right or wrong, there will be debates, but if it’s in the rules, I don’t mind taking those chances.” The match officials had looked to clarify their position at the interval, believing the helmet drama to be irrelevant. Fourth umpire Adrian Holdstock said: “The TV umpire monitors the two minutes and he will then relay the message to the standing umpire. In this instance the batter wasn’t ready within those two minutes even before the strap became an issue for him. The two minutes had already elapsed. “According to the playing conditions, the fielding captain requested/initiated to the standing umpire that he wanted to appeal for timed out. “As a batsman you need to make sure all your equipment is in place. You have to be ready to receive the ball in two minutes, not just take your guard. So technically you need to be in place after around 15 seconds so you can get ready to receive the ball.” Mathews became the first batsman in all international cricket to be given out timed out, although there have been six incidences of the rare mode of dismissal in first-class cricket. England are now the only team to have won just one game at the tournament. To qualify for the Champions Trophy in 2025, they need to finish in the top eight, which will likely now require victories over both the Netherlands and Pakistan in their final two matches.  '"
      ]
     },
     "execution_count": 24,
     "metadata": {},
     "output_type": "execute_result"
    }
   ],
   "source": [
    "whole_contents[2]"
   ]
  },
  {
   "cell_type": "code",
   "execution_count": 44,
   "metadata": {},
   "outputs": [
    {
     "data": {
      "text/plain": [
       "''"
      ]
     },
     "execution_count": 44,
     "metadata": {},
     "output_type": "execute_result"
    }
   ],
   "source": [
    "whole_contents[3]\n"
   ]
  },
  {
   "cell_type": "code",
   "execution_count": 37,
   "metadata": {},
   "outputs": [
    {
     "name": "stdout",
     "output_type": "stream",
     "text": [
      "By Will Macpherson in Dhaka England added dismal fielding to their already listless batting and were condemned to a 3-0 T20 whitewash by Bangladesh, with coach Matthew Mott bemoaning their worst performance of the tour. The trip began brightly, with an excellent ODI series win in conditions that were so extreme Mott believes they will act as “over-training” for the World Cup in India later this year. But England lost their last four games with the last, a 16-run defeat, the most frustrating for the England coach. Not even Jos Buttler’s first toss win in nine matches this year could change England’s fortunes. They had the advantage of bowling first, but threw it away with a poor fielding performance. Rehan Ahmed and Ben Duckett dropped simple catches off Jofra Archer, while at least three boundaries should have been prevented. It was only an excellent final five overs that cost just 27, led by Sam Curran, that kept Bangladesh to a total of 158, which Mott still considered 15 too many. “[The fielding was] incredibly disappointing,” said Mott. “Our first 15 overs in the field was nowhere near the level that we'd expect. There were not a lot of clean hands, some basic skill errors and that is not something we’re accustomed to seeing. “It also should act as a real eye-opener on where we need to improve. I think Bangladesh definitely outfielded us in most of the games but particularly today. “That one hurts today. We turned up trying to square the ledger at three and three. We're really proud of our one-day win, that's a massive effort, and we came over here to do well but to finish the way we did will leave a sour taste in our mouths.” England’s short batting line-up suffered from the same issues it has in the first two games: wickets lost in clusters, and a lack of power at the death. Phil Salt’s miserable trip continued, as he fell for a first-ball duck. Of his six dismissals on tour, five have been to four different left-arm spinners. This time, he found a new mode of dismissal, stumped, losing his balance to debutant Tanvir Islam. That brought Dawid Malan, who rode his luck, and Buttler together, and they forged a strong position. As they did in the first game of the series, England wasted it with two wickets in two balls. Malan was caught behind off Mustafizur Rahman, then Buttler was run out. Ben Duckett called him through for a questionable single, but the flat-footed skipper was too lax to beat Mehidy Hasan Miraz’s fantastic throw.   “Losing two wickets in two balls is really poor, I’m very disappointed in myself for not diving, that potentially cost us the game,” said Buttler. From there, England slid inevitably to defeat, losing five wickets for 28. Make no mistake, these are tough batting conditions, and England are missing players for all sorts of reasons. Some are rested, others injured, while there is a group who have chosen to play in the Pakistan Super League, with its greater financial rewards. The frustration is that England did not improve the more they were exposed to the conditions. Asked whether he regretted not replacing Tom Abell and Will Jacks after they were injured, Mott said: “If you look at how many players we've exposed this year alone, we've gone a fair way down the depth charts. The realisation that we're probably better off investing in some batters that we can put under pressure in these games. “You only learn from your mistakes and I think the opportunities that they've been given here will give them to reflect. When we get into pressure situations in World Cups, I'm confident that it was the right decision. “It would have been a really tough ask to bring someone in at really short notice to play that role in the middle order. “One thing we are really mindful of is that we have a lot of top-order batting options, but what we have to continue to improve is that middle order, all-rounders, and their capacity to win games for us. We saw that as an opportunity here, in hindsight people might question that but we were confident with the discussions we had that it was the right call.” It's really disappointing to lose but congrats to Bangladesh, they outplayed us and deserve their victory. We came back well, after missing some opportunities in the field. The wicket played better and it was a good score to restrict them to. Losing two wickets in two balls is really poor, very disappointed in myself for not diving. It potentially cost us the game. Proclaims the host of the presentations. What a feast day for Mr White Detergent! Bangladesh sweep the world champions. England had bowled with miserly poise at the death but Bangladesh did even better, nit simply stemming the runs but taking wickets. Two in successive deliveries, removing the well-set Malan and Buttler essentially ended it and this was no pitch for a new batsman to come in on and immediately have to swing for the rope.  Have England learned anything from this tour? Not much more than Archer is back. And in some ways, that's enough. Bangladesh were terrific, batting with real style and bowling with precision and guile, out-batting, out-bowling and out-fielding England.  Woakes spanks the first ball, one-handed, over mid-off for four, a yard short of going for six. Hasan had tried the yorker but didn't land it.  The next delivery is a yorker too and Woakes opens the face to squirt it behind point for four more. Nineteen needed off four.  Bowling coach Allan Donald comes to the rope to give some advice and Hasan responds with a slow ball. Woakes swings and misses and they hare through for a bye. England need three sixes. Jordan swings and misses at the next, another slower ball and they run a bye after Jordan swings hard and misses. A hat-trick of slower balls keep Woakes thrashing at fresh air. And he pins him on the pad with the last ball. Bangladesh win by 16 runs.  Curran departs but England can't get under Shakib's skiddy darts. They take him for merely four singles to leave them with mission impossible on this pitch - 27 off six.  Curran c Tanvir b Shakib 4 Looking to go long over cow corner it takes the leading edge and spoons up to cover.  FOW 128/6 Mustafizur applies the vice with a tight line and reverse swing, pace on and pace off, bamboozling Woakes with the latter. England can't find the middle of their bats nor the gaps and take only five off the over. Mustafizur wraps up with 4-0-14-1. England need 31 off 12. Curran works his first ball from Taskin for a single. The right-arm quick is still swinging it. Duckett squeezes a single down to third man, Curran walks down to tap a single through mid-on, Taskin having followed his step away to leg to try to free his hands. A slow bouncer that trampolines over Duckett is called wide so England will have another go ... In fact Taskin has another go and sends off-stump cartwheeling.  Taskin finishes with 4-0-26-2. England need 36 off 18.  Duckett b Taskin 12  Stepped away to try to find a gap but the slower ball reverses in and castles him.  FOW 123/5  Moeen c Mehidy b Taskin 9  Full pace bouncer, angling in to the left-hander. Moeen takes it on but can't get a full swing at it and cloths it down the midwicket sweeper's throat.  FOW 119/4  Hasan Mahmud starts with two dot balls, slow and across Moeen. England's vice captain, after two swings and misses, connects with the third and dumps it over long on for six. He bunts a single past the bowler then Duckett plays a full front pull all along the carpet for four. Hasan finishes with a fine yorker that Duckett can't work past a fielder.  An over of madness for England, then, and this looks a serious task now. Mehidy makes things happen, to borrow a cliche.   Mehidy comes straight back and diddles Duckett with one that spat up at him and hit the glove. Das, fortunately for England, drops the catch. Duckett works a single off his pads, Moeen pushes another to extra cover and Duckett reverse scoops for four.  Mustafizur drags Bangladesh right back into this and with all their left-handers to come plus three overs left from their nemesis Mehidy. England need 57 off 36.  Buttler run out 40  Buttler had started to look frustrated at Malan's inability to turn long singles into tight but gettable twos. I think that's why he set off to steal a single when Duckett nudged his first ball to point. Great throw from Mehidy, knocking the coconut off the pole, and the England captain off his perch by a yard.  FOW 100/3 Malan c Das b Mustafizur 53  Shakib brings back his fastest bowler and he bangs one into the left-hander from over the wicket. Malan goes for the short-arm pull  but top-edges it and the keeper takes a fine catch, hands pointing skywards at the apex of his leap.  FOW 100/2 England take Shakib for five singles off his first five balls to bring up their hundred, all off the back foot as the Bangladesh captain tries to slide darts through their defence with his skiddy trajectory. England need 59 off 42 balls.   Bangladesh have been trying to preserve Mehidy's overs for England's legion of left-handers. But they can't wait any longer and Buttler launches a frontal assault, flaying the first back over the bowler's head for four, all bottom hand, so much so he sliced it and the ball boomeranged from mid-on to mid-off. Next ball Buttler's front leg retreats to leg and he frees his arms to murder an off-break over mid-off for six.  Malan brings up his fifty, a 16th in T20Is, for the former world No1, with a push to cover. It came off 43 balls.  Buttler wheels into a pull and smacks it so hard that the square leg fielder, who had only a couple of yards to make, couldn't stop it rattling past for four. Buttler steals a quick single by virtue of a headlong dive which leaves his chest and gloves covered with the light mud of dust and dew. Taskin tries to fool Malan with a slower bouncer but he has time to adjust, like a stuttering penalty taker such as Jorginho in his run-up. He completes half the semi-circle, waits then collars the pull for four.  Mustafizur slams on the brakes, or rather keeps his foot down on them, his pace and bounce and judicious use of the slower ball keep England down to three singles as they get tied up particular by the bounce. Hard to free your arms to balls arrowing into your body above the waist.  Time for drinks.  Mahmud changes ends and it almost bears fruit when Malan slaps a drive uppishly through the covers. Towhid dives to his left but can't close his fingers around it to complete the catch. Five singles off the over. The pitch deteriorated here swiftly in the first Tw0 but seems to be holding up pretty well so far.  Here comes the Fiz. Malan is given the hurry up by the left-arm quick for three balls, one of which beat the edge as he fenced after it. Mustafizur then strays wide and Malan rifles a cut for four. It's the only scoring stroke of the over, though, as Mustafizur returns to an off stump line and racks up his fourth and fifth dot balls.  Plenty of bounce for an old pitch, certainly enough to surprise Malan and smack him painfully on the hip. After a pair of singles, Malan laces a cut off Shakib for four followed by a mow over long on. Shanto backpedals, leaps, throws up his right arm and tips it over the rope for six.   Steady start for England, after the loss of Salt. 47-1 in the powerplay is decent. The trouble is that the powerplay hasn't been the problem, it's what follows.. Mahmud, a right-arm fast medium skidder, comes on. Malan leg glances the first ball for four with Swiss precision but he cannot beat the field or indeed the non-striker's stumps off the next four deliveries, only getting going again with a controlled pull behind square for a single. That's the end of the Powerplay.   Shakib starts with a dart on leg-stump and Buttler plays a remarkable shot all blacksmith forearm power to clump the ball through midwicket for four. After a couple of singles nudged into the gaps, Buttler wants to go big again but this time Shakib had come round the wicket and the ball gripped and turned. Buttler, aiming for cover or mid-off, nicks it high over slip for a single.  Buttler wiggles his left shoulder, whisks two off his pads then climbs into Taskin and plants him back over his head for four. After England scramble a leg-bye, Malan whirls into a pull and top-edges it wildly over third man for four. This ball is sticking in the pitch when the seamers roll their fingers across the seam.  Despite Malan being on strike, Shakib keeps Tanvir on, hoping the left-armer gets an opportunity against Buttler. They take a single apiece at the start of the over. Malan eyes up the legside boundary, assesses the field, drops down into his guard and promptly slog sweeps Tanvir for six. Malan flicks a single through midwicket before Buttler clips a single off his toes but is stymied in his desire to turn it into two.  No swing for England but Taksin is hooping it and Malan, having been given a life by the third umpire, flicks at another inswinger, misses with the bat but this time earns four leg-byes fine. It's a very testing over from right over. Nice and tight with plenty of movement, varying the inswinger by pushing a couple across Malan.    The third umpire said that there was an inside edge but I'm not sure there was. It looked like it may have hit the pad twice, rolling from one ridge to the next, hence the two spikes. Seemed to be daylight between bat and ball. Bangladesh look understandably bemused.  Malan lbw b Taskin  Looked out to me. Hit on the shins by the inswinger.  Bangladesh entrust new ball duties to the debutant Tanvir who starts with a low full toss that Malan whisks to the midwicket boundary for four with a twist of the wrists. Malan eases a drive for a single, putting Salt on strike. He has been troubled by left-arm spin all tour and falls first ball, Tanvir taking the pace off, tossing it up and turning it past Salt's edge as the opener groped forward and lost his balance.  Salt st Das b Tanvir 0 Out for a golden duck, toppling over as he tried to defend the debutant left-arm spinner. The ball turned away and Salt's travails against left-arm spin continue. FOW 5/1 Salt st Das b Tanvir So England did well to peg things back in the last five overs there, with Bangladesh only scoring 27 in that time. Sam Curran, in particular, was excellent, and they should be ruing their fielding in the early part of the innings, with two particularly dreadful dropped catches. England will still need a vastly improved batting display if they're to win the game. Bangladesh looked capable of 180 with five overs to go after a terrible fielding display from England, Jos Buttler's side rediscovered its death bowling mojo to restrict the hosts to 28 off the final five overs.  Shanto gets away with running right up the middle of the pitch when sent back. He ran back down it, too. Two singles start Curran's over before Shakib swings and misses at the bouncer. England review it but there was a big gap between glove and ball even at full speed. Shakib wants it called wide but it went past his eyebrows not above head height.. Curran is such a clever bowler, forcing Shakib to chisel out a yorker for only a single. Shanto thinks Curran will go for the slower ball but he doesn't and hence the batsman misses out on his scoop. The Surrey seamer ends the innings with another excellent yorker and finishes his day's work with the ball with 4-0-28-0.  Left-handers find it easier to skelp yorkers round the corner and Shanto does that for four. Jordan pins him next ball but DRS saves him after the umpire's finger shot up. Archer cuts off a thumping cut and saves two. Shanto wears a jarring delivery high on the bat and knocks it in front of square. They scramble two. Shakib ends the over walking across to scoop and is nutmegged by the ball, running a leg-bye off the inside of one of his knees to short third man.  Pitched quite a long way outside leg. Still, a dot ball.  Shanto lbw b Jordan  Out if it pitched in line.  Archer comes back from his final over, using his pace, applying it and taking it off, to keep the left-handers quiet for five balls. Shanto is struck in the chest and they burgle a leg-bye. Archer cantered up the pitch to try to complete the run-out with a side-foot shot at the the stumps but he sprays it wide.  Three good overs on the bounce from England.  Two excellent overs from England there, and Bangladesh have been pegged back. Rate is still above eight, but thy are not out of this yet. The silence when a wicket falls here is remarkable. Jordan starts with a full length ball that Shanto tries to throw everything but the kithcen sink at but plinks it off the toe for a single. Das jams out the yorker for a single and Jordan thwarts Shanto's attempt to scoop by following the left-hander as he walked over to the offside, cramping him. Jordan nails two more yorkers and concedes only a single, the second of them all but shaving off-stump. One ball to go and Jordan serves up the Sidebottom slow bouncer. Just as it did in 2010, it proves its worth. The batsmen can't resist but have to put all the power in themselves.   Das c Salt b Jordan 73  Jordan rounds off an excellent over with a slow bouncer that Das cloths to the midwicket sweeper.  FOW 139/2 Sam Curran returns and goes back to his World Cup tactics of painting the wide lines, hiding the ball outside off with the pace off. As such he forces the batsmen to stretch to play, messing with their timing. He gets out of the over for the price of merely three singles and a two. Canny effort.  Buttler calls Jordan back into the fray. Yorkers rather than slow bouncers hopefully.  Buttler decides to play the last Rashid over he usually keeps up his sleeve early. Shanto reverse sweeps for a single, Das chips the googly over cover for four then cuffs two through midwicket. Rashid takes the pace off, reduces the flight and gets out of the over with the damage of only two further singles.  Rashid ends with 4-0-23-1.  Archer breaks into a broad smile, with more than a hint of sarcasm, after Duckett crowns England's shabby display in the field by dropping Das at deep midwicket. Beaten for pace, Das had top-edged his pull but once again the ball burst through a pair of English hands. Das adds insult to injury by top edging a pull over third man for four, done for pace again, then picks the cutter and collars it, carting it over midwicket for six! Will Macpherson reports from Mirpur Jofra Archer has the right to be absolutely spewing. Ahmed, and now Duckett, have dropped shockers. After a delay for Das's concussion test, he brings up his fifty off Rehan's third over, clipping a single off his pads, nudging the googly round the corner. He exchanges singles with sweeps before Shanto ends the over by clearing the front leg and mowing the googly to cow corner for six.  Good start from Jordan with slower balls and a fine yorker. But Das refuses to be shackled, pulling the fourth ball through midwicket for four followed by another, with a lovely lofted drive the bat coming round the dial of the clock. Jordan takes the pace off and surprises Das at the end of the over, clonking him on the helmet as the batsman gets through his pull way too early.  Time for some off-spin. Moeen tosses one up, uncharacteristically, and Shanto skips down and lamps him over mid-off for six, the first of the innings. More poor fielding from England makes a gift of a two to Shanto for a legside flick who also adds two through point with a cut. He is batting with his usual pragmatism but Moeen almost winkles him out with a big off-break he was trying to work to leg. It takes a lading edge as he closes the face and drops safe.  Chris Jordan time. At least he will get one full over today after Sunday's five-ball kamikaze mission.  Long delay there, in the middle of an untidy over, I think because of some confusion over whether England could change the field for a wide following a free hit. Anyway, at the end of it, they didn't. England are bowling ok, but fielding horribly, which is not a winning combo. Sam Curran comes back and Das dabs him for four, using the angle across the right-hander from left-arm over to deflect it elegantly for four.  Curran oversteps and then delivers a high bouncer that is called wide for the free hit. He will have to bowl that again. Some debate about whether England can change the field – they should be able to because they took a single off the no-ball. So he is in within his rights. Shanto chisels out the yorker for a single when the free-hit finally comes.  Here's Jofra after Rehan's dropped catch: Time for drinks.  Rehan is bowling well with dip, grip and rip, twice beating Das. England's sub-standard fielding on tour comes back to bite them though when long-off allows a single to be doubled into two by dawdling and Rashid, inevitably after that glowing tribute, dives over a square cut at short backward point and lets it scuttle under him for four.  Rashid is still the go-to bowler for a crisis. To have watched his development since Eoin Morgan demanded his inclusion in the team has been to witness the flowering of an exceptional talent. Morgan deserves credit for many things but I genuinely believe Rashid has been his greatest success. Shows what encouragement and empowerment can achieve.     Talukdar caught and bowled Rashid 24 Toes a reverse sweep straight back to the bowler.  FOW 55/1 Rehan Ahmed comes on for a bowl and rips both a googly and a leg-break, the big turn preventing the batsmen scoring. Twice in the over he beats Das's bat but the Bangladesh keeper plays the long game, waits for the error then climbs into the drag-down to spank it through point for four off the back foot. Duckett chased and dived to try to claw it back but the ball carromed under his headlong slide.  Blimey! Rehan Ahmed grasses an absolute sitter. Talukdar went for a big swipe across the line and top-edged the ball to short third man. Rehan planted himself beneath the steepler and somehow let it burst between his hands. Archer's hands cover his eyes. A ball earlier he had more justified grounds for exasperation when Duckett saw the ball late at midwicket, chasing Talukdar's pull. He should have got there to save four but was on his heels. Archer takes his grievance out on the batsmen's bodies.  Good PowerPlay for Bangladesh. Opta have come up trumps so the scoreboard should be working now. Apologies for the delay. Das sweeps Rashid for four but both play out the rest of the over with the utmost caution, nurdling two singles and taking an extra for a wide after another googly slides down.  Apologies for the lack of a scoreboard, either in full or truncated form. Our statistics supplier does not have a deal for this particular T20 series. We're trying to sort something out.  Archer starts at a rapid lick and arrows a short ball into Talukdar, so close to the body that Rony flaps at it and only keeps it away from his solar plexus by wearing it on the hand. Talukdar gets down the other end, wisely, by shovelling a pull off his body. Das throws his hands at a back of a length ball at 91mph, exploiting the width to slap it up and over cover for four, Bangladesh get a life after a daft single when Salt's throw from point that would have left Talukdar stranded by two yards whistles past the stumps.  An early bowl for England's best, Adil Rashid. He starts with a quick googly that catches Das by surprise but he jams his bat down to keep it out. Das clips the slider away for a single. Talukdar works the leg-break through midwicket after a couple of wides when Rashid pitches his googly too far over to leg. Still, two singles and two extras represent a good over for England.   Here comes Jofra.  Chris Woakes shares new ball duties. Das walks across and tries to flip a decent length ball over long leg for six, kind of sweeping it. But it takes the leading edge and goes for a one-bounce four down to third man. Courage, Brother, do not stumble. Had he stumbled that could have been a case of dental, rather than mental disintegration. Das flicks to the midwicket sweeper then heaves across the line for a single squarer than the last. Rocking Rony ends the over charging Woakes and bludgeoning him back over his head for four. Hmm... No swing leaves Woakes horribly exposed.  And Curran starts with a legside wide. Das pushes the first legit delivery to point for an easy single. There are tufts of grass on this pitch, which was used for the first T20 when it turned sharply. Talukdar flips four off his toes behind square. A loose over so far from Curran. But after three balls he finds his line, arcing the ball back into the right-handed Das. earning a pair of dot balls. Make that three. Poor start but then Curran dragged it back.  And once he's stretched his groin, he will run in to bowl.  England Phil Salt, Jos Buttler (capt and wk), Dawid Malan, Ben Duckett, Moeen Ali, Sam Curran, Chris Woakes, Chris Jordan, Rehan Ahmed,  Adil Rashid, Jofra Archer. Bangladesh make two changes: Tanvir Islam makes his debut and Shamim Hossain returns.  Rony Talukdar, Litton Das (wk), Najmul Hossain Shanto, Shakib Al Hasan (capt), Towhid Hridoy, Shamim Hossain, Mehidy Hasan Miraz, Tanvir Islam, Taskin Ahmed,  Hasan Mahmud, Mustafizur Rahman. Jos Buttler has won the toss and has put Bangladesh in to bat. That's the first toss he's won in 2023, I think.  Good morning and welcome to live coverage of the third Twenty20 between Bangladesh and England from Dhaka. This winter England have played a T20 series in Pakistan, the World Cup in Australia, bilateral ODIs against Australia in Australia, a Test series in Pakistan, ODIs and T20s in South Africa, a Test series in New Zealand and ODIs and T20s in Bangladesh. I've been exhausted just covering it from London. Lord knows how the players must feel. Anyway, today they face the final curtain ... until the IPL starts The world champions find themselves 2-0 down, which is not exactly unexpected given all the mitigating factors. Having won the World Cup only five months ago, they are on a different cycle entirely, trying to prepare for their defence of the 50-over World Cup by experimenting with top-order places for their all-rounders, Sam Curran and Moeen Ali, while the attractions of franchise cricket, the recently completed Test series in New Zealand and the limited number of central contracts available mean that a lot of contenders for batting roles are otherwise occupied. While it would be hard to characterise this part of the tour as anything other than an encumbrance, there have been some successes, most of all the form of Jofra Archer that ought to put a smile on every fan of cricket and not just England supporters. The way he was used by Joe Root during the tour of New Zealand in 2019-20 as a kind of turbo Wagner, employing a thoroughbred to drag the rag and bone cart, almost destroyed this generational talent. But England's policy of wrapping him in cotton wool may yet make him a viable three-format bowler, used in Tests for impact rather than the entire series. As Archer contemplates a broad future, Moeen may well be slimming three in 2021 down to one. Moeen has already retired from Test cricket and, while the 50-over World Cup in India this autumn is a clear priority, the 35-year-old has floated the idea of subsequently stepping away from the format. \"I don't set a lot of goals, but I want to play that World Cup, be a part of that World Cup and hopefully win that World Cup and then we'll see,\" he told talkSPORT 2 ahead of Tuesday's series-ending T20 in Bangladesh. \"I'm not saying I will retire or I'm not saying I won't retire. Another seven or eight months at 35 is a lot. It could be a time where I'm thinking that's me done now and I might look at Livingstone and Jacksy and think 'you know what, my time is up, I'd rather these guys get ready for the next World Cup. \"I haven't decided but I have sort of an idea of what I want to try and do. It genuinely makes me really happy when I see players coming in - whatever's best for us and the side and going to make us champions, that's more important and that's the bigger picture really.\" Expanding on the attraction of continuing as T20 specialist, Moeen added: \"I think it's something that's more logical and just makes more sense. If I'm playing well and playing all the franchise cricket - and playing for England - I don't see why not. \"Fifty overs does get harder the older you get, it's not easy to field and for sure it makes sense that I'll do that.\" Rob Bagchi\n"
     ]
    }
   ],
   "source": [
    "print(whole_contents[11])\n"
   ]
  },
  {
   "cell_type": "code",
   "execution_count": 39,
   "metadata": {},
   "outputs": [],
   "source": [
    "dict = {\n",
    " 'Head Line': head_lines,\n",
    " 'Time'     : times,\n",
    " 'Full News': whole_contents   \n",
    "}\n",
    "df = pd.DataFrame(dict)"
   ]
  },
  {
   "cell_type": "code",
   "execution_count": 40,
   "metadata": {},
   "outputs": [
    {
     "data": {
      "text/html": [
       "<div>\n",
       "<style scoped>\n",
       "    .dataframe tbody tr th:only-of-type {\n",
       "        vertical-align: middle;\n",
       "    }\n",
       "\n",
       "    .dataframe tbody tr th {\n",
       "        vertical-align: top;\n",
       "    }\n",
       "\n",
       "    .dataframe thead th {\n",
       "        text-align: right;\n",
       "    }\n",
       "</style>\n",
       "<table border=\"1\" class=\"dataframe\">\n",
       "  <thead>\n",
       "    <tr style=\"text-align: right;\">\n",
       "      <th></th>\n",
       "      <th>Head Line</th>\n",
       "      <th>Time</th>\n",
       "      <th>Full News</th>\n",
       "    </tr>\n",
       "  </thead>\n",
       "  <tbody>\n",
       "    <tr>\n",
       "      <th>0</th>\n",
       "      <td>ICC criticised for lack of action over 'existe...</td>\n",
       "      <td>21 Nov 2023 • 5:11 pm</td>\n",
       "      <td>The International Cricket Council has been urg...</td>\n",
       "    </tr>\n",
       "    <tr>\n",
       "      <th>1</th>\n",
       "      <td>India deploys anti-smuggling beehives on Bangl...</td>\n",
       "      <td>7 Nov 2023 • 12:11 am</td>\n",
       "      <td>India has installed beehives along its border ...</td>\n",
       "    </tr>\n",
       "    <tr>\n",
       "      <th>2</th>\n",
       "      <td>'Disgraceful': Sri Lanka outraged as Angelo Ma...</td>\n",
       "      <td>6 Nov 2023 • 9:11 pm</td>\n",
       "      <td>Sri Lanka’s Angelo Mathews became the first ba...</td>\n",
       "    </tr>\n",
       "    <tr>\n",
       "      <th>3</th>\n",
       "      <td>Shakib Al Hasan appealing was not against the ...</td>\n",
       "      <td>6 Nov 2023 • 8:11 pm</td>\n",
       "      <td></td>\n",
       "    </tr>\n",
       "    <tr>\n",
       "      <th>4</th>\n",
       "      <td>Sparkling Virat Kohli hundred sees India past ...</td>\n",
       "      <td>19 Oct 2023 • 10:10 pm</td>\n",
       "      <td>Virat Kohli smashed a century as India maintai...</td>\n",
       "    </tr>\n",
       "    <tr>\n",
       "      <th>5</th>\n",
       "      <td>Reece Topley makes convincing case to lead Eng...</td>\n",
       "      <td>11 Oct 2023 • 11:10 pm</td>\n",
       "      <td>England’s win over Bangladesh proved it was ma...</td>\n",
       "    </tr>\n",
       "    <tr>\n",
       "      <th>6</th>\n",
       "      <td>Dawid Malan and Reece Topley star as England g...</td>\n",
       "      <td>10 Oct 2023 • 7:10 pm</td>\n",
       "      <td>In December 2020, Dawid Malan was feared too o...</td>\n",
       "    </tr>\n",
       "    <tr>\n",
       "      <th>7</th>\n",
       "      <td>Jos Buttler criticises ‘poor pitch’ as England...</td>\n",
       "      <td>10 Oct 2023 • 12:10 am</td>\n",
       "      <td>Jos Buttler has questioned the integrity of Tu...</td>\n",
       "    </tr>\n",
       "    <tr>\n",
       "      <th>8</th>\n",
       "      <td>Mark Wood makes timely return to give England ...</td>\n",
       "      <td>3 Oct 2023 • 1:10 am</td>\n",
       "      <td>England received a boost ahead of Thursday’s W...</td>\n",
       "    </tr>\n",
       "    <tr>\n",
       "      <th>9</th>\n",
       "      <td>Bangladesh hospitals at breaking point as deng...</td>\n",
       "      <td>6 Sep 2023 • 8:09 pm</td>\n",
       "      <td>Hospital corridors are overflowing with dengue...</td>\n",
       "    </tr>\n",
       "    <tr>\n",
       "      <th>10</th>\n",
       "      <td>As extreme heat and wildfires hit Europe, expe...</td>\n",
       "      <td>18 Jul 2023 • 6:07 pm</td>\n",
       "      <td>It was the middle of the night when Cyclone Bh...</td>\n",
       "    </tr>\n",
       "    <tr>\n",
       "      <th>11</th>\n",
       "      <td>Bangladesh sweep butter-fingered England aside</td>\n",
       "      <td>14 Mar 2023 • 10:03 pm</td>\n",
       "      <td>By Will Macpherson in Dhaka England added dism...</td>\n",
       "    </tr>\n",
       "  </tbody>\n",
       "</table>\n",
       "</div>"
      ],
      "text/plain": [
       "                                            Head Line                    Time  \\\n",
       "0   ICC criticised for lack of action over 'existe...   21 Nov 2023 • 5:11 pm   \n",
       "1   India deploys anti-smuggling beehives on Bangl...   7 Nov 2023 • 12:11 am   \n",
       "2   'Disgraceful': Sri Lanka outraged as Angelo Ma...    6 Nov 2023 • 9:11 pm   \n",
       "3   Shakib Al Hasan appealing was not against the ...    6 Nov 2023 • 8:11 pm   \n",
       "4   Sparkling Virat Kohli hundred sees India past ...  19 Oct 2023 • 10:10 pm   \n",
       "5   Reece Topley makes convincing case to lead Eng...  11 Oct 2023 • 11:10 pm   \n",
       "6   Dawid Malan and Reece Topley star as England g...   10 Oct 2023 • 7:10 pm   \n",
       "7   Jos Buttler criticises ‘poor pitch’ as England...  10 Oct 2023 • 12:10 am   \n",
       "8   Mark Wood makes timely return to give England ...    3 Oct 2023 • 1:10 am   \n",
       "9   Bangladesh hospitals at breaking point as deng...    6 Sep 2023 • 8:09 pm   \n",
       "10  As extreme heat and wildfires hit Europe, expe...   18 Jul 2023 • 6:07 pm   \n",
       "11     Bangladesh sweep butter-fingered England aside  14 Mar 2023 • 10:03 pm   \n",
       "\n",
       "                                            Full News  \n",
       "0   The International Cricket Council has been urg...  \n",
       "1   India has installed beehives along its border ...  \n",
       "2   Sri Lanka’s Angelo Mathews became the first ba...  \n",
       "3                                                      \n",
       "4   Virat Kohli smashed a century as India maintai...  \n",
       "5   England’s win over Bangladesh proved it was ma...  \n",
       "6   In December 2020, Dawid Malan was feared too o...  \n",
       "7   Jos Buttler has questioned the integrity of Tu...  \n",
       "8   England received a boost ahead of Thursday’s W...  \n",
       "9   Hospital corridors are overflowing with dengue...  \n",
       "10  It was the middle of the night when Cyclone Bh...  \n",
       "11  By Will Macpherson in Dhaka England added dism...  "
      ]
     },
     "execution_count": 40,
     "metadata": {},
     "output_type": "execute_result"
    }
   ],
   "source": [
    "df"
   ]
  },
  {
   "cell_type": "code",
   "execution_count": 45,
   "metadata": {},
   "outputs": [],
   "source": [
    "df.to_csv('telegraph.csv', index= False)"
   ]
  },
  {
   "cell_type": "code",
   "execution_count": null,
   "metadata": {},
   "outputs": [],
   "source": []
  }
 ],
 "metadata": {
  "kernelspec": {
   "display_name": "base",
   "language": "python",
   "name": "python3"
  },
  "language_info": {
   "codemirror_mode": {
    "name": "ipython",
    "version": 3
   },
   "file_extension": ".py",
   "mimetype": "text/x-python",
   "name": "python",
   "nbconvert_exporter": "python",
   "pygments_lexer": "ipython3",
   "version": "3.11.3"
  }
 },
 "nbformat": 4,
 "nbformat_minor": 2
}
