{
 "cells": [
  {
   "cell_type": "code",
   "execution_count": 9,
   "metadata": {},
   "outputs": [],
   "source": [
    "from selenium import webdriver\n",
    "from selenium.webdriver.chrome.service import Service\n",
    "from selenium.webdriver.common.by import By\n",
    "from selenium.webdriver.common.keys import Keys\n",
    "from itertools import chain\n",
    "import pandas as pd\n",
    "import time\n"
   ]
  },
  {
   "cell_type": "code",
   "execution_count": 10,
   "metadata": {},
   "outputs": [],
   "source": [
    "head_lines = []\n",
    "times =  []\n",
    "whole_contents = []\n",
    "PATH = \"N:\\\\Code\\\\News Scraping\\\\chromedriver.exe\"\n",
    "service = Service(executable_path = PATH)\n",
    "driver = webdriver.Chrome(service = service)\n",
    "driver.get(\"https://www.telegraph.co.uk/search/\")\n",
    "input_element = driver.find_element(By.ID, \"fsearch\" )\n",
    "input_element.send_keys(\"Bangladesh\")\n",
    "time.sleep(10)\n"
   ]
  },
  {
   "cell_type": "code",
   "execution_count": 11,
   "metadata": {},
   "outputs": [],
   "source": [
    "head_lines = driver.find_elements(By.XPATH,'//p[@class=\"cst-card__headline \"]')\n",
    "head_lines = [head_line.text for head_line in head_lines]\n",
    "times =driver.find_elements(By.XPATH,'//span[@class=\"cst-card__date\"]') \n",
    "times = [time.text for time in times]\n",
    "news_links_curr_page = driver.find_elements(By.XPATH, \"//a[@class='cst-card__link']\")\n",
    "news_links_curr_page = [news_link.get_attribute('href') for news_link in news_links_curr_page]"
   ]
  },
  {
   "cell_type": "code",
   "execution_count": 13,
   "metadata": {},
   "outputs": [],
   "source": [
    "for i in range(len(news_links_curr_page)):\n",
    "\n",
    "    driver.get(news_links_curr_page[i])\n",
    "    time.sleep(10)\n",
    "    divs_contain_pTag = driver.find_elements(By.XPATH, '//div[@class=\"component article-body-text    \"]')\n",
    "    p_tags_list = list(chain.from_iterable([div.find_elements(By.TAG_NAME, 'p') for div in divs_contain_pTag]))\n",
    "    news_content_list = [pTag.text for pTag in p_tags_list]\n",
    "    whole_contents.append (' '.join(news_content_list))\n",
    "    "
   ]
  },
  {
   "cell_type": "code",
   "execution_count": 14,
   "metadata": {},
   "outputs": [],
   "source": [
    "driver.quit()"
   ]
  },
  {
   "cell_type": "code",
   "execution_count": 15,
   "metadata": {},
   "outputs": [],
   "source": [
    "dict = {\n",
    " 'Head Line': head_lines,\n",
    " 'Time'     : times,\n",
    " 'Full News': whole_contents   \n",
    "}\n",
    "df = pd.DataFrame(dict)"
   ]
  },
  {
   "cell_type": "code",
   "execution_count": 16,
   "metadata": {},
   "outputs": [
    {
     "data": {
      "text/html": [
       "<div>\n",
       "<style scoped>\n",
       "    .dataframe tbody tr th:only-of-type {\n",
       "        vertical-align: middle;\n",
       "    }\n",
       "\n",
       "    .dataframe tbody tr th {\n",
       "        vertical-align: top;\n",
       "    }\n",
       "\n",
       "    .dataframe thead th {\n",
       "        text-align: right;\n",
       "    }\n",
       "</style>\n",
       "<table border=\"1\" class=\"dataframe\">\n",
       "  <thead>\n",
       "    <tr style=\"text-align: right;\">\n",
       "      <th></th>\n",
       "      <th>Head Line</th>\n",
       "      <th>Time</th>\n",
       "      <th>Full News</th>\n",
       "    </tr>\n",
       "  </thead>\n",
       "  <tbody>\n",
       "    <tr>\n",
       "      <th>0</th>\n",
       "      <td>ICC criticised for lack of action over 'existe...</td>\n",
       "      <td>21 Nov 2023 • 5:11 pm</td>\n",
       "      <td>The International Cricket Council has been urg...</td>\n",
       "    </tr>\n",
       "    <tr>\n",
       "      <th>1</th>\n",
       "      <td>India deploys anti-smuggling beehives on Bangl...</td>\n",
       "      <td>7 Nov 2023 • 12:11 am</td>\n",
       "      <td>India has installed beehives along its border ...</td>\n",
       "    </tr>\n",
       "    <tr>\n",
       "      <th>2</th>\n",
       "      <td>'Disgraceful': Sri Lanka outraged as Angelo Ma...</td>\n",
       "      <td>6 Nov 2023 • 9:11 pm</td>\n",
       "      <td>Sri Lanka’s Angelo Mathews became the first ba...</td>\n",
       "    </tr>\n",
       "    <tr>\n",
       "      <th>3</th>\n",
       "      <td>Shakib Al Hasan appealing was not against the ...</td>\n",
       "      <td>6 Nov 2023 • 8:11 pm</td>\n",
       "      <td></td>\n",
       "    </tr>\n",
       "    <tr>\n",
       "      <th>4</th>\n",
       "      <td>Sparkling Virat Kohli hundred sees India past ...</td>\n",
       "      <td>19 Oct 2023 • 10:10 pm</td>\n",
       "      <td>Virat Kohli smashed a century as India maintai...</td>\n",
       "    </tr>\n",
       "    <tr>\n",
       "      <th>5</th>\n",
       "      <td>Reece Topley makes convincing case to lead Eng...</td>\n",
       "      <td>11 Oct 2023 • 11:10 pm</td>\n",
       "      <td>England’s win over Bangladesh proved it was ma...</td>\n",
       "    </tr>\n",
       "    <tr>\n",
       "      <th>6</th>\n",
       "      <td>Dawid Malan and Reece Topley star as England g...</td>\n",
       "      <td>10 Oct 2023 • 7:10 pm</td>\n",
       "      <td>In December 2020, Dawid Malan was feared too o...</td>\n",
       "    </tr>\n",
       "    <tr>\n",
       "      <th>7</th>\n",
       "      <td>Jos Buttler criticises ‘poor pitch’ as England...</td>\n",
       "      <td>10 Oct 2023 • 12:10 am</td>\n",
       "      <td>Jos Buttler has questioned the integrity of Tu...</td>\n",
       "    </tr>\n",
       "    <tr>\n",
       "      <th>8</th>\n",
       "      <td>Mark Wood makes timely return to give England ...</td>\n",
       "      <td>3 Oct 2023 • 1:10 am</td>\n",
       "      <td>England received a boost ahead of Thursday’s W...</td>\n",
       "    </tr>\n",
       "    <tr>\n",
       "      <th>9</th>\n",
       "      <td>Bangladesh hospitals at breaking point as deng...</td>\n",
       "      <td>6 Sep 2023 • 8:09 pm</td>\n",
       "      <td>Hospital corridors are overflowing with dengue...</td>\n",
       "    </tr>\n",
       "    <tr>\n",
       "      <th>10</th>\n",
       "      <td>As extreme heat and wildfires hit Europe, expe...</td>\n",
       "      <td>18 Jul 2023 • 6:07 pm</td>\n",
       "      <td>It was the middle of the night when Cyclone Bh...</td>\n",
       "    </tr>\n",
       "    <tr>\n",
       "      <th>11</th>\n",
       "      <td>Bangladesh sweep butter-fingered England aside</td>\n",
       "      <td>14 Mar 2023 • 10:03 pm</td>\n",
       "      <td>By Will Macpherson in Dhaka England added dism...</td>\n",
       "    </tr>\n",
       "  </tbody>\n",
       "</table>\n",
       "</div>"
      ],
      "text/plain": [
       "                                            Head Line                    Time  \\\n",
       "0   ICC criticised for lack of action over 'existe...   21 Nov 2023 • 5:11 pm   \n",
       "1   India deploys anti-smuggling beehives on Bangl...   7 Nov 2023 • 12:11 am   \n",
       "2   'Disgraceful': Sri Lanka outraged as Angelo Ma...    6 Nov 2023 • 9:11 pm   \n",
       "3   Shakib Al Hasan appealing was not against the ...    6 Nov 2023 • 8:11 pm   \n",
       "4   Sparkling Virat Kohli hundred sees India past ...  19 Oct 2023 • 10:10 pm   \n",
       "5   Reece Topley makes convincing case to lead Eng...  11 Oct 2023 • 11:10 pm   \n",
       "6   Dawid Malan and Reece Topley star as England g...   10 Oct 2023 • 7:10 pm   \n",
       "7   Jos Buttler criticises ‘poor pitch’ as England...  10 Oct 2023 • 12:10 am   \n",
       "8   Mark Wood makes timely return to give England ...    3 Oct 2023 • 1:10 am   \n",
       "9   Bangladesh hospitals at breaking point as deng...    6 Sep 2023 • 8:09 pm   \n",
       "10  As extreme heat and wildfires hit Europe, expe...   18 Jul 2023 • 6:07 pm   \n",
       "11     Bangladesh sweep butter-fingered England aside  14 Mar 2023 • 10:03 pm   \n",
       "\n",
       "                                            Full News  \n",
       "0   The International Cricket Council has been urg...  \n",
       "1   India has installed beehives along its border ...  \n",
       "2   Sri Lanka’s Angelo Mathews became the first ba...  \n",
       "3                                                      \n",
       "4   Virat Kohli smashed a century as India maintai...  \n",
       "5   England’s win over Bangladesh proved it was ma...  \n",
       "6   In December 2020, Dawid Malan was feared too o...  \n",
       "7   Jos Buttler has questioned the integrity of Tu...  \n",
       "8   England received a boost ahead of Thursday’s W...  \n",
       "9   Hospital corridors are overflowing with dengue...  \n",
       "10  It was the middle of the night when Cyclone Bh...  \n",
       "11  By Will Macpherson in Dhaka England added dism...  "
      ]
     },
     "execution_count": 16,
     "metadata": {},
     "output_type": "execute_result"
    }
   ],
   "source": [
    "df"
   ]
  },
  {
   "cell_type": "code",
   "execution_count": 45,
   "metadata": {},
   "outputs": [],
   "source": [
    "df.to_csv('telegraph.csv', index= False)"
   ]
  },
  {
   "cell_type": "code",
   "execution_count": null,
   "metadata": {},
   "outputs": [],
   "source": []
  }
 ],
 "metadata": {
  "kernelspec": {
   "display_name": "base",
   "language": "python",
   "name": "python3"
  },
  "language_info": {
   "codemirror_mode": {
    "name": "ipython",
    "version": 3
   },
   "file_extension": ".py",
   "mimetype": "text/x-python",
   "name": "python",
   "nbconvert_exporter": "python",
   "pygments_lexer": "ipython3",
   "version": "3.11.3"
  }
 },
 "nbformat": 4,
 "nbformat_minor": 2
}
